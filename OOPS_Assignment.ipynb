{
  "nbformat": 4,
  "nbformat_minor": 0,
  "metadata": {
    "colab": {
      "provenance": []
    },
    "kernelspec": {
      "name": "python3",
      "display_name": "Python 3"
    },
    "language_info": {
      "name": "python"
    }
  },
  "cells": [
    {
      "cell_type": "code",
      "execution_count": 1,
      "metadata": {
        "id": "FI-r3RITw_AX"
      },
      "outputs": [],
      "source": [
        "# 1. What are the five key concepts of Object-Oriented Programming (OOP)?\n",
        "\n",
        "# The five key concepts of Object-Oriented Programming (OOP) are:\n",
        "\n",
        "# a. Abstraction: Hiding complex implementation details and showing only essential information to the user.\n",
        "# b. Encapsulation: Combining data and methods that operate on that data within a single unit (class).\n",
        "# c. Inheritance: Creating new classes (child classes) based on existing classes (parent classes), inheriting their properties and behaviors.\n",
        "# d. Polymorphism: Allowing objects of different classes to be treated as objects of a common type, enabling flexibility in method calls.\n",
        "# e. Association: Representing relationships between different objects in a system.\n"
      ]
    },
    {
      "cell_type": "code",
      "source": [
        "# 2. Write a Python class for a `Car` with attributes for `make`, `model`, and `year`. Include a method to display the car's information\n",
        "\n",
        "class Car:\n",
        "  def __init__(self, make, model, year):\n",
        "    self.make = make\n",
        "    self.model = model\n",
        "    self.year = year\n",
        "\n",
        "  def display_info(self):\n",
        "    print(f\"Make: {self.make}\")\n",
        "    print(f\"Model: {self.model}\")\n",
        "    print(f\"Year: {self.year}\")\n",
        "\n",
        "\n",
        "# Example usage\n",
        "my_car = Car(\"Toyota\", \"Camry\", 2023)\n",
        "my_car.display_info()\n"
      ],
      "metadata": {
        "colab": {
          "base_uri": "https://localhost:8080/"
        },
        "id": "aWHpZ0qVxl1g",
        "outputId": "68dd2479-a4b3-45d2-94fb-c5332a6fa175"
      },
      "execution_count": 3,
      "outputs": [
        {
          "output_type": "stream",
          "name": "stdout",
          "text": [
            "Make: Toyota\n",
            "Model: Camry\n",
            "Year: 2023\n"
          ]
        }
      ]
    },
    {
      "cell_type": "code",
      "source": [
        "# 3. Explain the difference between instance methods and class methods. Provide an example of each.\n",
        "\n",
        "# Instance Methods vs. Class Methods\n",
        "\n",
        "# Instance methods operate on specific instances of a class. They take `self` as the first argument,\n",
        "# which refers to the instance the method is called on.\n",
        "# They can access and modify instance attributes.\n",
        "\n",
        "# Example of an instance method :\n",
        "class Car:\n",
        "  def __init__(self, make, model, year):\n",
        "    self.make = make\n",
        "    self.model = model\n",
        "    self.year = year\n",
        "\n",
        "  def display_info(self): # This is an instance method\n",
        "    print(f\"Make: {self.make}\")\n",
        "    print(f\"Model: {self.model}\")\n",
        "    print(f\"Year: {self.year}\")\n",
        "\n",
        "# Class methods operate on the class itself, not on specific instances. They take `cls` as the first\n",
        "# argument, which refers to the class. They can access and modify class attributes.\n",
        "\n",
        "# Example of a class method:\n",
        "class MyClass:\n",
        "  class_attribute = \"This is a class attribute\"\n",
        "\n",
        "  @classmethod\n",
        "  def class_method(cls): # This is a class method\n",
        "    print(f\"Class attribute: {cls.class_attribute}\")\n",
        "\n",
        "# Usage\n",
        "MyClass.class_method()  # Calling a class method\n",
        "my_car = Car(\"Honda\", \"Civic\", 2022)\n",
        "my_car.display_info() # Calling an instance method\n"
      ],
      "metadata": {
        "colab": {
          "base_uri": "https://localhost:8080/"
        },
        "id": "IwJ2xERWxqt_",
        "outputId": "703b8067-892a-404b-a2cc-1711d867c58a"
      },
      "execution_count": 4,
      "outputs": [
        {
          "output_type": "stream",
          "name": "stdout",
          "text": [
            "Class attribute: This is a class attribute\n",
            "Make: Honda\n",
            "Model: Civic\n",
            "Year: 2022\n"
          ]
        }
      ]
    },
    {
      "cell_type": "code",
      "source": [
        "# 4. How does Python implement method overloading? Give an example.\n",
        "\n",
        "# Python doesn't directly support method overloading in the same way as some other languages (like Java or C++).\n",
        "# In Python, when you define multiple methods with the same name, the later method definition overwrites the previous one.\n",
        "# However, you can achieve similar functionality using default argument values and variable-length argument lists (*args, **kwargs).\n",
        "\n",
        "class MyClass:\n",
        "  def my_method(self, a=None, b=None):\n",
        "    if a is not None and b is not None:\n",
        "      print(\"Method with two arguments called:\", a, b)\n",
        "    elif a is not None:\n",
        "      print(\"Method with one argument called:\", a)\n",
        "    else:\n",
        "      print(\"Method with no arguments called\")\n",
        "\n",
        "\n",
        "my_object = MyClass()\n",
        "my_object.my_method()  # Calls the method with no arguments\n",
        "my_object.my_method(10) # Calls the method with one argument\n",
        "my_object.my_method(10, 20) # Calls the method with two arguments\n",
        "\n"
      ],
      "metadata": {
        "colab": {
          "base_uri": "https://localhost:8080/"
        },
        "id": "U7_qyn4zx3PG",
        "outputId": "7a200930-0869-48aa-80d8-eb89f63ce0f3"
      },
      "execution_count": 5,
      "outputs": [
        {
          "output_type": "stream",
          "name": "stdout",
          "text": [
            "Method with no arguments called\n",
            "Method with one argument called: 10\n",
            "Method with two arguments called: 10 20\n"
          ]
        }
      ]
    },
    {
      "cell_type": "code",
      "source": [
        "# 5. What are the three types of access modifiers in Python? How are they denoted?\n",
        "\n",
        "# Access Modifiers in Python\n",
        "\n",
        "# Python doesn't have strict access modifiers like private, protected, and public like Java or C++.\n",
        "# However, it uses naming conventions to indicate the intended visibility of attributes and methods.\n",
        "\n",
        "# a. Public:\n",
        "#    - Attributes and methods with no underscore prefix are considered public.\n",
        "#    - They can be accessed from anywhere, both within and outside the class.\n",
        "#    - This is the default access level in Python.\n",
        "\n",
        "# Example:\n",
        "class MyClass:\n",
        "  def public_method(self):\n",
        "    print(\"This is a public method.\")\n",
        "\n",
        "my_object = MyClass()\n",
        "my_object.public_method() # Accessing the public method\n",
        "\n",
        "\n",
        "# b. Protected:\n",
        "#    - Attributes and methods starting with a single underscore (_) are considered protected.\n",
        "#    - They are intended to be accessed only within the class or by subclasses.\n",
        "#    - Python doesn't enforce this restriction, but it's a convention to signal that they should not be accessed directly from outside the class.\n",
        "\n",
        "# Example:\n",
        "class MyClass:\n",
        "  def _protected_method(self):\n",
        "    print(\"This is a protected method.\")\n",
        "\n",
        "my_object = MyClass()\n",
        "my_object._protected_method() # Technically, you can still access it, but it's discouraged\n",
        "\n",
        "# c. Private:\n",
        "#    - Attributes and methods starting with double underscores (__) are considered private.\n",
        "#    - They are intended to be used only within the class.\n",
        "#    - Python implements name mangling to make it harder to access these attributes from outside the class.\n",
        "#    - You can still access them using the mangled name, but it's generally avoided.\n",
        "\n",
        "# Example:\n",
        "class MyClass:\n",
        "  def __private_method(self):\n",
        "    print(\"This is a private method.\")\n",
        "\n",
        "my_object = MyClass()\n",
        "# my_object.__private_method() # This will raise an AttributeError\n",
        "# You can access it using the mangled name: my_object._MyClass__private_method()\n",
        "# But it's strongly advised not to do this.\n",
        "\n"
      ],
      "metadata": {
        "colab": {
          "base_uri": "https://localhost:8080/"
        },
        "id": "NCIdMBZsyEUN",
        "outputId": "67624f40-cbe0-42be-f99d-480b299cdf50"
      },
      "execution_count": 6,
      "outputs": [
        {
          "output_type": "stream",
          "name": "stdout",
          "text": [
            "This is a public method.\n",
            "This is a protected method.\n"
          ]
        }
      ]
    },
    {
      "cell_type": "code",
      "source": [
        "# 6. Describe the five types of inheritance in Python. Provide a simple example of multiple inheritance.\n",
        "\n",
        "# Types of Inheritance in Python\n",
        "\n",
        "# Python supports various types of inheritance, including:\n",
        "\n",
        "# a. Single Inheritance: A class inherits from only one parent class. (Most common)\n",
        "# Example:\n",
        "class Animal:\n",
        "  def eat(self):\n",
        "    print(\"Animal is eating.\")\n",
        "\n",
        "class Dog(Animal):\n",
        "  def bark(self):\n",
        "    print(\"Dog is barking.\")\n",
        "\n",
        "my_dog = Dog()\n",
        "my_dog.eat() # Inherited method from Animal\n",
        "my_dog.bark()\n",
        "\n",
        "# b. Multiple Inheritance: A class inherits from multiple parent classes.\n",
        "# Example:\n",
        "class Flyer:\n",
        "  def fly(self):\n",
        "    print(\"Can fly.\")\n",
        "\n",
        "class Swimmer:\n",
        "  def swim(self):\n",
        "    print(\"Can swim.\")\n",
        "\n",
        "class Duck(Flyer, Swimmer): # Duck inherits from both Flyer and Swimmer\n",
        "  def quack(self):\n",
        "    print(\"Quack!\")\n",
        "\n",
        "\n",
        "my_duck = Duck()\n",
        "my_duck.fly()\n",
        "my_duck.swim()\n",
        "my_duck.quack()\n",
        "\n",
        "# c. Multilevel Inheritance: A class inherits from a derived class, forming a hierarchy.\n",
        "# Example:\n",
        "class GrandParent:\n",
        "  def grandparent_method(self):\n",
        "    print(\"Grandparent method\")\n",
        "\n",
        "class Parent(GrandParent):\n",
        "  def parent_method(self):\n",
        "    print(\"Parent method\")\n",
        "\n",
        "class Child(Parent):\n",
        "  def child_method(self):\n",
        "    print(\"Child method\")\n",
        "\n",
        "my_child = Child()\n",
        "my_child.grandparent_method()\n",
        "my_child.parent_method()\n",
        "my_child.child_method()\n",
        "\n",
        "# d. Hierarchical Inheritance: Multiple classes inherit from a single parent class.\n",
        "# Example:\n",
        "class Shape:\n",
        "  def draw(self):\n",
        "    print(\"Drawing a shape.\")\n",
        "\n",
        "class Circle(Shape):\n",
        "  pass\n",
        "\n",
        "class Square(Shape):\n",
        "  pass\n",
        "\n",
        "my_circle = Circle()\n",
        "my_square = Square()\n",
        "my_circle.draw()\n",
        "my_square.draw()\n",
        "\n",
        "# e. Hybrid Inheritance: A combination of different inheritance types.\n",
        "# Example: (Combination of multiple and multilevel)\n",
        "class A:\n",
        "    def method_a(self):\n",
        "        print(\"Method A\")\n",
        "\n",
        "class B(A):\n",
        "    def method_b(self):\n",
        "        print(\"Method B\")\n",
        "\n",
        "class C(A):\n",
        "    def method_c(self):\n",
        "        print(\"Method C\")\n",
        "\n",
        "class D(B, C):\n",
        "    def method_d(self):\n",
        "        print(\"Method D\")\n",
        "\n",
        "my_d = D()\n",
        "my_d.method_a()\n",
        "my_d.method_b()\n",
        "my_d.method_c()\n",
        "my_d.method_d()\n"
      ],
      "metadata": {
        "colab": {
          "base_uri": "https://localhost:8080/"
        },
        "id": "dOYbls5qzFn1",
        "outputId": "7c4bd8bb-8eb5-4ed0-9737-6b1441cbafbb"
      },
      "execution_count": 8,
      "outputs": [
        {
          "output_type": "stream",
          "name": "stdout",
          "text": [
            "Animal is eating.\n",
            "Dog is barking.\n",
            "Can fly.\n",
            "Can swim.\n",
            "Quack!\n",
            "Grandparent method\n",
            "Parent method\n",
            "Child method\n",
            "Drawing a shape.\n",
            "Drawing a shape.\n",
            "Method A\n",
            "Method B\n",
            "Method C\n",
            "Method D\n"
          ]
        }
      ]
    },
    {
      "cell_type": "code",
      "source": [
        "# 7. What is the Method Resolution Order (MRO) in Python? How can you retrieve it programmatically?\n",
        "\n",
        "# Method Resolution Order (MRO)\n",
        "\n",
        "# The Method Resolution Order (MRO) defines the order in which Python searches for methods in a class hierarchy.\n",
        "# It's crucial when you have multiple inheritance, as it determines which parent class's method will be called\n",
        "# if there are methods with the same name in multiple parent classes.\n",
        "\n",
        "# Retrieving MRO Programmatically\n",
        "\n",
        "# You can use the `__mro__` attribute or the `mro()` method of a class to retrieve its MRO.\n",
        "\n",
        "\n",
        "class A:\n",
        "    pass\n",
        "\n",
        "\n",
        "class B:\n",
        "    pass\n",
        "\n",
        "\n",
        "class C(A, B):\n",
        "    pass\n",
        "\n",
        "\n",
        "print(C.__mro__)\n",
        "print(C.mro())\n",
        "\n",
        "# The output shows that if a method is called on an instance of class `C`, Python will first look for it in `C`.\n",
        "# If not found, it will look in `A`, then `B`, and finally `object` (the base class for all classes in Python).\n",
        "\n"
      ],
      "metadata": {
        "colab": {
          "base_uri": "https://localhost:8080/"
        },
        "id": "UU_MAUr7zMoS",
        "outputId": "48ed2cf1-9e53-45e4-eee4-d377e4664dba"
      },
      "execution_count": 10,
      "outputs": [
        {
          "output_type": "stream",
          "name": "stdout",
          "text": [
            "(<class '__main__.C'>, <class '__main__.A'>, <class '__main__.B'>, <class 'object'>)\n",
            "[<class '__main__.C'>, <class '__main__.A'>, <class '__main__.B'>, <class 'object'>]\n"
          ]
        }
      ]
    },
    {
      "cell_type": "code",
      "source": [],
      "metadata": {
        "id": "hk4tBo4kzrBq"
      },
      "execution_count": null,
      "outputs": []
    },
    {
      "cell_type": "code",
      "source": [
        "# 8. Create an abstract base class `Shape` with an abstract method `area()`. Then create two subclasses\n",
        "# `Circle` and `Rectangle` that implement the `area()` method.\n",
        "\n",
        "from abc import ABC, abstractmethod\n",
        "import math\n",
        "\n",
        "class Shape(ABC):\n",
        "  @abstractmethod\n",
        "  def area(self):\n",
        "    pass\n",
        "\n",
        "\n",
        "class Circle(Shape):\n",
        "  def __init__(self, radius):\n",
        "    self.radius = radius\n",
        "\n",
        "  def area(self):\n",
        "    return math.pi * self.radius ** 2\n",
        "\n",
        "\n",
        "class Rectangle(Shape):\n",
        "  def __init__(self, width,height):\n",
        "    self.width = width\n",
        "    self.height = height\n",
        "\n",
        "  def area(self):\n",
        "    return self.width * self.height\n",
        "\n",
        "\n",
        "# Example usage\n",
        "circle = Circle(5)\n",
        "rectangle = Rectangle(4, 6)\n",
        "\n",
        "print(\"Area of circle:\", circle.area())\n",
        "print(\"Area of rectangle:\", rectangle.area())\n"
      ],
      "metadata": {
        "id": "fxKtoNv7zVPh",
        "colab": {
          "base_uri": "https://localhost:8080/"
        },
        "outputId": "2c4ce8f9-c303-419b-b2fc-f4a11336b349"
      },
      "execution_count": 13,
      "outputs": [
        {
          "output_type": "stream",
          "name": "stdout",
          "text": [
            "Area of circle: 78.53981633974483\n",
            "Area of rectangle: 24\n"
          ]
        }
      ]
    },
    {
      "cell_type": "code",
      "source": [
        "# 9. Demonstrate polymorphism by creating a function that can work with different shape objects to calculate and print their areas.\n",
        "\n",
        "def print_area(shape):\n",
        "  \"\"\"\n",
        "  Demonstrates polymorphism by calculating and printing the area of any shape object.\n",
        "\n",
        "  Args:\n",
        "      shape: An object that inherits from the Shape class.\n",
        "  \"\"\"\n",
        "  print(\"Area:\", shape.area())\n",
        "\n",
        "# Example usage\n",
        "circle = Circle(5)\n",
        "rectangle = Rectangle(4, 6)\n",
        "\n",
        "print_area(circle)\n",
        "print_area(rectangle)\n"
      ],
      "metadata": {
        "colab": {
          "base_uri": "https://localhost:8080/"
        },
        "id": "tgOe_ZOqzuaB",
        "outputId": "cc2fc2d6-3ed0-4c4f-ebc3-20a0099bbe27"
      },
      "execution_count": 15,
      "outputs": [
        {
          "output_type": "stream",
          "name": "stdout",
          "text": [
            "Area: 78.53981633974483\n",
            "Area: 24\n"
          ]
        }
      ]
    },
    {
      "cell_type": "code",
      "source": [
        "# 10. Implement encapsulation in a `BankAccount` class with private attributes for `balance` and\n",
        "# `account_number`. Include methods for deposit, withdrawal, and balance inquiry.\n",
        "\n",
        "class BankAccount:\n",
        "    def __init__(self, account_number, initial_balance=0):\n",
        "        self.__account_number = account_number  # Private attribute\n",
        "        self.__balance = initial_balance  # Private attribute\n",
        "\n",
        "    def deposit(self, amount):\n",
        "        if amount > 0:\n",
        "            self.__balance += amount\n",
        "            print(f\"Deposited Rs.{amount}. New balance: Rs.{self.__balance}\")\n",
        "        else:\n",
        "            print(\"Invalid deposit amount.\")\n",
        "\n",
        "    def withdraw(self, amount):\n",
        "        if 0 < amount <= self.__balance:\n",
        "            self.__balance -= amount\n",
        "            print(f\"Withdrew Rs.{amount}. New balance: Rs.{self.__balance}\")\n",
        "        else:\n",
        "            print(\"Insufficient funds or invalid withdrawal amount.\")\n",
        "\n",
        "    def get_balance(self):\n",
        "        return self.__balance\n",
        "\n",
        "    def get_account_number(self):\n",
        "        return self.__account_number\n",
        "\n",
        "\n",
        "# Example usage\n",
        "account = BankAccount(\"1234567890\", 1000)\n",
        "account.deposit(500)\n",
        "account.withdraw(200)\n",
        "print(f\"Current balance: Rs.{account.get_balance()}\")\n",
        "print(f\"Account number: {account.get_account_number()}\")\n"
      ],
      "metadata": {
        "id": "48lkA8Pq0QKc",
        "colab": {
          "base_uri": "https://localhost:8080/"
        },
        "outputId": "4075ac7b-b920-4e86-fd55-9e8ee6abd6b5"
      },
      "execution_count": 18,
      "outputs": [
        {
          "output_type": "stream",
          "name": "stdout",
          "text": [
            "Deposited Rs.500. New balance: Rs.1500\n",
            "Withdrew Rs.200. New balance: Rs.1300\n",
            "Current balance: Rs.1300\n",
            "Account number: 1234567890\n"
          ]
        }
      ]
    },
    {
      "cell_type": "code",
      "source": [
        "# 11. Write a class that overrides the `__str__` and `__add__` magic methods. What will these methods allow you to do?\n",
        "\n",
        "class MyClass:\n",
        "    def __init__(self, value):\n",
        "        self.value = value\n",
        "\n",
        "    def __str__(self):\n",
        "        return f\"MyClass object with value: {self.value}\"\n",
        "\n",
        "    def __add__(self, other):\n",
        "        if isinstance(other, MyClass):\n",
        "            return MyClass(self.value + other.value)\n",
        "        else:\n",
        "            return MyClass(self.value + other)\n",
        "\n",
        "\n",
        "# Example usage\n",
        "obj1 = MyClass(10)\n",
        "obj2 = MyClass(20)\n",
        "\n",
        "print(obj1)  # Calls the __str__ method\n",
        "result = obj1 + obj2  # Calls the __add__ method\n",
        "print(result)\n",
        "\n",
        "result2 = obj1 + 30\n",
        "print(result2)\n",
        "\n",
        "# What these methods allow you to do:\n",
        "\n",
        "# __str__:\n",
        "#   - Allows you to define how your class objects are represented as strings.\n",
        "#   - This is what's used when you call `print(my_object)` or use `str(my_object)`.\n",
        "\n",
        "# __add__:\n",
        "#   - Allows you to define how the '+' operator works with objects of your class.\n",
        "#   - You can define what happens when you add two objects of your class together.\n",
        "#   - You can even define how your class objects interact with other types of objects (e.g., adding an integer to a MyClass object).\n"
      ],
      "metadata": {
        "id": "70Ozqz5y0ktG",
        "colab": {
          "base_uri": "https://localhost:8080/"
        },
        "outputId": "19f82b0e-1765-46a2-b312-9e74395eff53"
      },
      "execution_count": 19,
      "outputs": [
        {
          "output_type": "stream",
          "name": "stdout",
          "text": [
            "MyClass object with value: 10\n",
            "MyClass object with value: 30\n",
            "MyClass object with value: 40\n"
          ]
        }
      ]
    },
    {
      "cell_type": "code",
      "source": [
        "# 12. Create a decorator that measures and prints the execution time of a function.\n",
        "\n",
        "import time\n",
        "\n",
        "def time_it(func):\n",
        "  \"\"\"\n",
        "  Decorator that measures and prints the execution time of a function.\n",
        "  \"\"\"\n",
        "  def wrapper(*args, **kwargs):\n",
        "    start_time = time.time()\n",
        "    result = func(*args, **kwargs)\n",
        "    end_time = time.time()\n",
        "    execution_time = end_time - start_time\n",
        "    print(f\"Function {func.__name__} took {execution_time:.4f} seconds to execute.\")\n",
        "    return result\n",
        "\n",
        "  return wrapper\n",
        "\n",
        "@time_it\n",
        "def my_slow_function():\n",
        "  time.sleep(2)\n",
        "  print(\"Function finished\")\n",
        "\n",
        "\n",
        "my_slow_function()\n"
      ],
      "metadata": {
        "id": "pok05Gtw1TdL",
        "colab": {
          "base_uri": "https://localhost:8080/"
        },
        "outputId": "bad64311-6da3-4f87-feda-bec5126bfdc5"
      },
      "execution_count": 20,
      "outputs": [
        {
          "output_type": "stream",
          "name": "stdout",
          "text": [
            "Function finished\n",
            "Function my_slow_function took 2.0043 seconds to execute.\n"
          ]
        }
      ]
    },
    {
      "cell_type": "code",
      "source": [
        "# 13. Explain the concept of the Diamond Problem in multiple inheritance. How does Python resolve it?\n",
        "\n",
        "# The Diamond Problem:\n",
        "\n",
        "# The Diamond Problem is a specific issue that can arise in multiple inheritance, where a class inherits\n",
        "# from two or more classes that have a common ancestor. This creates an ambiguity in which parent's\n",
        "# method or attribute should be used if multiple parents define a method with the same name.\n",
        "\n",
        "\n",
        "# Example illustrating the diamond problem\n",
        "class A:\n",
        "    def method(self):\n",
        "        print(\"Method in A\")\n",
        "\n",
        "class B(A):\n",
        "    def method(self):\n",
        "        print(\"Method in B\")\n",
        "\n",
        "class C(A):\n",
        "    def method(self):\n",
        "        print(\"Method in C\")\n",
        "\n",
        "class D(B, C):\n",
        "    pass\n",
        "\n",
        "\n",
        "d = D()\n",
        "d.method() # Output: Method in B\n",
        "\n",
        "\n",
        "# How Python resolves it: Method Resolution Order (MRO)\n",
        "\n",
        "# Python resolves the diamond problem using its Method Resolution Order (MRO). The MRO defines a linear\n",
        "# order in which parent classes are searched for methods when a method call occurs. It ensures that\n",
        "# methods are called in a predictable and consistent manner.\n",
        "\n",
        "\n",
        "# In the example, Python's MRO determines that the `method` in class `B` is the correct one to use\n",
        "# when called on an instance of `D`. This is because of the order in which `B` and `C` are inherited.\n",
        "# You can check the MRO of a class using the `__mro__` attribute:\n",
        "print(D.__mro__)\n",
        "# Output: (<class '__main__.D'>, <class '__main__.B'>, <class '__main__.C'>, <class '__main__.A'>, <class 'object'>)\n",
        "\n",
        "# The MRO helps avoid ambiguity by adhering to a defined order of inheritance.\n",
        "\n"
      ],
      "metadata": {
        "id": "TOqadbhD1faz",
        "colab": {
          "base_uri": "https://localhost:8080/"
        },
        "outputId": "9c6e9dbd-a27a-4a6a-9b9a-0879470cc49b"
      },
      "execution_count": 21,
      "outputs": [
        {
          "output_type": "stream",
          "name": "stdout",
          "text": [
            "Method in B\n",
            "(<class '__main__.D'>, <class '__main__.B'>, <class '__main__.C'>, <class '__main__.A'>, <class 'object'>)\n"
          ]
        }
      ]
    },
    {
      "cell_type": "code",
      "source": [
        "# 14. Write a class method that keeps track of the number of instances created from a class\n",
        "\n",
        "class MyClass:\n",
        "    instance_count = 0  # Class attribute to keep track of instances\n",
        "\n",
        "    def __init__(self):\n",
        "        MyClass.instance_count += 1\n",
        "\n",
        "    @classmethod\n",
        "    def get_instance_count(cls):\n",
        "        return cls.instance_count\n",
        "\n",
        "\n",
        "# Example usage:\n",
        "obj1 = MyClass()\n",
        "obj2 = MyClass()\n",
        "obj3 = MyClass()\n",
        "\n",
        "print(f\"Number of instances created: {MyClass.get_instance_count()}\")\n"
      ],
      "metadata": {
        "colab": {
          "base_uri": "https://localhost:8080/"
        },
        "id": "er9IMgWI11XU",
        "outputId": "f7189c3c-c39f-4005-e0c5-203e806bcb6b"
      },
      "execution_count": 22,
      "outputs": [
        {
          "output_type": "stream",
          "name": "stdout",
          "text": [
            "Number of instances created: 3\n"
          ]
        }
      ]
    },
    {
      "cell_type": "code",
      "source": [
        "# 15. Implement a static method in a class that checks if a given year is a leap year.\n",
        "\n",
        "class DateUtils:\n",
        "    @staticmethod\n",
        "    def is_leap_year(year):\n",
        "        \"\"\"\n",
        "        Checks if a given year is a leap year.\n",
        "\n",
        "        Args:\n",
        "            year: The year to check.\n",
        "\n",
        "        Returns:\n",
        "            True if the year is a leap year, False otherwise.\n",
        "        \"\"\"\n",
        "        if year % 4 == 0 and year % 100 != 0 or year % 400 == 0:\n",
        "            return True\n",
        "        return False\n",
        "\n",
        "\n",
        "# Example usage:\n",
        "year = 2024\n",
        "if DateUtils.is_leap_year(year):\n",
        "    print(f\"{year} is a leap year.\")\n",
        "else:\n",
        "    print(f\"{year} is not a leap year.\")\n"
      ],
      "metadata": {
        "id": "94f7PuLc17pb",
        "colab": {
          "base_uri": "https://localhost:8080/"
        },
        "outputId": "7e9d54c7-ca03-4082-8d07-950fb638d456"
      },
      "execution_count": 32,
      "outputs": [
        {
          "output_type": "stream",
          "name": "stdout",
          "text": [
            "2024 is a leap year.\n"
          ]
        }
      ]
    },
    {
      "cell_type": "code",
      "source": [
        "|"
      ],
      "metadata": {
        "id": "nbf2TV8I2Efq"
      },
      "execution_count": null,
      "outputs": []
    }
  ]
}